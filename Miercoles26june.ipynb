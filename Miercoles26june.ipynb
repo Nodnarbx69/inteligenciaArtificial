{
  "nbformat": 4,
  "nbformat_minor": 0,
  "metadata": {
    "colab": {
      "provenance": [],
      "authorship_tag": "ABX9TyPSBWSEKVmRreGXzA0JSTU9",
      "include_colab_link": true
    },
    "kernelspec": {
      "name": "python3",
      "display_name": "Python 3"
    },
    "language_info": {
      "name": "python"
    }
  },
  "cells": [
    {
      "cell_type": "markdown",
      "metadata": {
        "id": "view-in-github",
        "colab_type": "text"
      },
      "source": [
        "<a href=\"https://colab.research.google.com/github/Nodnarbx69/inteligenciaArtificial/blob/main/Miercoles26june.ipynb\" target=\"_parent\"><img src=\"https://colab.research.google.com/assets/colab-badge.svg\" alt=\"Open In Colab\"/></a>"
      ]
    },
    {
      "cell_type": "code",
      "execution_count": 6,
      "metadata": {
        "colab": {
          "base_uri": "https://localhost:8080/"
        },
        "id": "1CxRosE7xryz",
        "outputId": "91c3ebf9-f51c-4521-a14b-c70e0b5c1caf"
      },
      "outputs": [
        {
          "output_type": "stream",
          "name": "stdout",
          "text": [
            "{3}\n",
            "{True, 3, 'Jhon'}\n",
            "{True, 'Jhon'}\n",
            "2\n",
            "True\n",
            "Jhon\n"
          ]
        }
      ],
      "source": [
        "#sets as a container\n",
        "\n",
        "var1 = set()\n",
        "\n",
        "var1.add(3)\n",
        "\n",
        "print(var1)\n",
        "\n",
        "var1.add('Jhon')\n",
        "var1.add(True)\n",
        "print(var1)\n",
        "\n",
        "var1.remove(3)\n",
        "\n",
        "print(var1)\n",
        "print(len(var1))\n",
        "\n",
        "for elem in var1:\n",
        "    print(elem)"
      ]
    },
    {
      "cell_type": "code",
      "source": [
        "#tuples\n",
        "\n",
        "var2 = tuple()\n",
        "\n",
        "var= (1,2,3,4)\n",
        "\n",
        "print(type(var))\n",
        "\n",
        "aux=list(var)\n",
        "\n",
        "aux.append(4)\n",
        "\n",
        "var=tuple(aux)\n",
        "\n",
        "print(var)"
      ],
      "metadata": {
        "colab": {
          "base_uri": "https://localhost:8080/"
        },
        "id": "ZyZTOVo1zVPi",
        "outputId": "e70f2bbe-b89e-46ea-9188-b377bdc83a94"
      },
      "execution_count": 8,
      "outputs": [
        {
          "output_type": "stream",
          "name": "stdout",
          "text": [
            "<class 'tuple'>\n",
            "(1, 2, 3, 4)\n"
          ]
        }
      ]
    },
    {
      "cell_type": "code",
      "source": [
        "class saludo(object):\n",
        "  def __init__(self, name):\n",
        "    self.name = name\n",
        "\n",
        "  def say_hello(self):\n",
        "    return f\"Hello,  {self.name}\"\n",
        "name1 = saludo('Jhon')\n",
        "print(name1.say_hello())\n",
        ""
      ],
      "metadata": {
        "colab": {
          "base_uri": "https://localhost:8080/"
        },
        "id": "UHJAIFlb2mOS",
        "outputId": "da721ac8-43db-4913-a955-e6c16c981c03"
      },
      "execution_count": 18,
      "outputs": [
        {
          "output_type": "stream",
          "name": "stdout",
          "text": [
            "Hello,  Jhon\n"
          ]
        }
      ]
    },
    {
      "cell_type": "code",
      "source": [
        "class Calculadora:\n",
        "    def __init__(self, radio, base, altura, lado):\n",
        "        self.radio = radio\n",
        "        self.base = base\n",
        "        self.altura = altura\n",
        "        self.lado = lado\n",
        "\n",
        "    def area_circulo(self):\n",
        "        return 3.1416 * self.radio ** 2\n",
        "\n",
        "    def area_triangulo(self):\n",
        "        return (self.base * self.altura) / 2\n",
        "\n",
        "    def area_cuadrado(self):\n",
        "        return self.lado ** 2\n",
        "\n",
        "#\n",
        "calculadora = Calculadora(10, 5, 12, 8)\n",
        "\n",
        "area_circulo = calculadora.area_circulo()\n",
        "print(\"Area del circulo:\", area_circulo)\n",
        "\n",
        "area_triangulo = calculadora.area_triangulo()\n",
        "print(\"Area del triangulo:\", area_triangulo)\n",
        "\n",
        "area_cuadrado = calculadora.area_cuadrado()\n",
        "print(\"Area del cuadrado:\", area_cuadrado)\n"
      ],
      "metadata": {
        "colab": {
          "base_uri": "https://localhost:8080/"
        },
        "id": "0RtPrcNr4UgC",
        "outputId": "9cb7ce95-51f4-4b0c-ece0-632affcd31ae"
      },
      "execution_count": 24,
      "outputs": [
        {
          "output_type": "stream",
          "name": "stdout",
          "text": [
            "Area del circulo: 314.15999999999997\n",
            "Area del triangulo: 30.0\n",
            "Area del cuadrado: 64\n"
          ]
        }
      ]
    },
    {
      "cell_type": "code",
      "source": [
        "class persona:\n",
        "    def __init__(self, nombre, edad):\n",
        "        self.nombre = nombre\n",
        "        self.edad = edad\n",
        "\n",
        "estudiante1=persona(\"Jhon\", 25)\n",
        "\n",
        "print(estudiante1.nombre)\n",
        "print(estudiante1.edad)\n"
      ],
      "metadata": {
        "id": "JAMstEQq_MTN"
      },
      "execution_count": null,
      "outputs": []
    },
    {
      "cell_type": "code",
      "source": [
        "class Persona:\n",
        "    def __init__(self, nombre, edad):\n",
        "        self.nombre = nombre\n",
        "        self.edad = edad\n",
        "\n",
        "    def mayusculas(self):\n",
        "        return self.nombre.upper(), self.edad.upper()\n",
        "\n",
        "    def minusculas(self):\n",
        "        return self.nombre.lower(), self.edad.lower()\n",
        "\n",
        "# Example usage\n",
        "persona = Persona(\"Juan\", \"25\")\n",
        "\n",
        "# Print in uppercase\n",
        "nombre_mayus, edad_mayus = persona.mayusculas()\n",
        "print(\"Nombre en mayúsculas:\", nombre_mayus)\n",
        "print(\"Edad en mayúsculas:\", edad_mayus)\n",
        "\n",
        "# Print in lowercase\n",
        "nombre_minus, edad_minus = persona.minusculas()\n",
        "print(\"Nombre en minúsculas:\", nombre_minus)\n",
        "print(\"Edad en minúsculas:\", edad_minus)\n"
      ],
      "metadata": {
        "colab": {
          "base_uri": "https://localhost:8080/"
        },
        "id": "XyzqF_jk_pW2",
        "outputId": "97c8aad5-b7a7-419c-af2a-132790239dc6"
      },
      "execution_count": 25,
      "outputs": [
        {
          "output_type": "stream",
          "name": "stdout",
          "text": [
            "Nombre en mayúsculas: JUAN\n",
            "Edad en mayúsculas: 25\n",
            "Nombre en minúsculas: juan\n",
            "Edad en minúsculas: 25\n"
          ]
        }
      ]
    },
    {
      "cell_type": "code",
      "source": [
        "class Calculator:\n",
        "    def __init__(self):\n",
        "        pass\n",
        "\n",
        "    def add(self, a, b):\n",
        "        return a + b\n",
        "\n",
        "    def subtract(self, a, b):\n",
        "        return a - b\n",
        "\n",
        "    def multiply(self, a, b):\n",
        "        return a * b\n",
        "\n",
        "    def divide(self, a, b):\n",
        "        if b == 0:\n",
        "            raise ValueError(\"No se puede dividr por 0\")\n",
        "        return a / b\n",
        "\n",
        "# Example usage\n",
        "calculator = Calculator()\n",
        "\n",
        "result = calculator.add(5, 3)\n",
        "print(\"5 + 3 =\", result)\n",
        "\n",
        "result = calculator.subtract(10, 2)\n",
        "print(\"10 - 2 =\", result)\n",
        "\n",
        "result = calculator.multiply(4, 6)\n",
        "print(\"4 * 6 =\", result)\n",
        "\n",
        "result = calculator.divide(12, 3)\n",
        "print(\"12 / 3 =\", result)\n"
      ],
      "metadata": {
        "colab": {
          "base_uri": "https://localhost:8080/"
        },
        "id": "Rh5waBxTDL1O",
        "outputId": "18a812eb-08f8-4b07-fbe2-cd2d2ea38586"
      },
      "execution_count": 26,
      "outputs": [
        {
          "output_type": "stream",
          "name": "stdout",
          "text": [
            "5 + 3 = 8\n",
            "10 - 2 = 8\n",
            "4 * 6 = 24\n",
            "12 / 3 = 4.0\n"
          ]
        }
      ]
    }
  ]
}