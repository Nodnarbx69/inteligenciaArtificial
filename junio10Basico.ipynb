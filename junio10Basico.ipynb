{
  "nbformat": 4,
  "nbformat_minor": 0,
  "metadata": {
    "colab": {
      "provenance": [],
      "authorship_tag": "ABX9TyMyoIxQKvAZizx2YBXVzLSM",
      "include_colab_link": true
    },
    "kernelspec": {
      "name": "python3",
      "display_name": "Python 3"
    },
    "language_info": {
      "name": "python"
    }
  },
  "cells": [
    {
      "cell_type": "markdown",
      "metadata": {
        "id": "view-in-github",
        "colab_type": "text"
      },
      "source": [
        "<a href=\"https://colab.research.google.com/github/Nodnarbx69/inteligenciaArtificial/blob/main/junio10Basico.ipynb\" target=\"_parent\"><img src=\"https://colab.research.google.com/assets/colab-badge.svg\" alt=\"Open In Colab\"/></a>"
      ]
    },
    {
      "cell_type": "code",
      "execution_count": 1,
      "metadata": {
        "colab": {
          "base_uri": "https://localhost:8080/"
        },
        "id": "1c6q_zyZ92Fx",
        "outputId": "aab093f4-db5a-477f-c686-75fb30789730"
      },
      "outputs": [
        {
          "output_type": "stream",
          "name": "stdout",
          "text": [
            "Python 3.10.12\n"
          ]
        }
      ],
      "source": [
        "!python --version\n"
      ]
    },
    {
      "cell_type": "code",
      "source": [
        "myNumber=3\n",
        "\n",
        "myNumberDecimal=3.5\n",
        "state=True\n",
        "\n"
      ],
      "metadata": {
        "id": "b-lWyHgWCoz4"
      },
      "execution_count": 10,
      "outputs": []
    },
    {
      "cell_type": "code",
      "source": [
        "print(f'valor entero {myNumber}')\n",
        "print(f'valor decimal {myNumberDecimal}')\n",
        "print(f'valor booleano {state}')"
      ],
      "metadata": {
        "colab": {
          "base_uri": "https://localhost:8080/"
        },
        "id": "S9zGgDVgDYVR",
        "outputId": "980c0c44-da56-4103-f0ba-ff2023347b92"
      },
      "execution_count": 13,
      "outputs": [
        {
          "output_type": "stream",
          "name": "stdout",
          "text": [
            "valor entero 3\n",
            "valor decimal 3.5\n",
            "valor booleano True\n"
          ]
        }
      ]
    },
    {
      "cell_type": "code",
      "source": [
        "total = myNumber + myNumberDecimal\n",
        "print(f'La suma de {myNumber} y {myNumberDecimal} es {total}')\n"
      ],
      "metadata": {
        "colab": {
          "base_uri": "https://localhost:8080/"
        },
        "id": "FgyYxwt3EinP",
        "outputId": "d4dd2c0c-b655-4188-c519-42665f5ecc63"
      },
      "execution_count": 14,
      "outputs": [
        {
          "output_type": "stream",
          "name": "stdout",
          "text": [
            "La suma de 3 y 3.5 es 6.5\n"
          ]
        }
      ]
    },
    {
      "cell_type": "code",
      "source": [
        "\n",
        "myNumber = 10\n",
        "myNumber2 = 2\n",
        "\n",
        "\n",
        "print(f'valor entero {myNumber}')\n",
        "print(f'valor decimal {myNumber2}')\n",
        "\n",
        "total = myNumber + myNumber2\n",
        "print(f'La suma de {myNumber} y {myNumber2} es {total}')\n",
        "\n",
        "power = myNumber ** myNumber2\n",
        "print(f'{myNumber} elevado a la {myNumber2} es {power}')\n"
      ],
      "metadata": {
        "colab": {
          "base_uri": "https://localhost:8080/"
        },
        "id": "gIZI6ouYE-7g",
        "outputId": "a38e86bd-187a-408d-b6af-1c51e2b7e236"
      },
      "execution_count": 21,
      "outputs": [
        {
          "output_type": "stream",
          "name": "stdout",
          "text": [
            "valor entero 10\n",
            "valor decimal 2\n",
            "La suma de 10 y 2 es 12\n",
            "10 elevado a la 2 es 100\n"
          ]
        }
      ]
    },
    {
      "cell_type": "code",
      "source": [
        "var1 = 'Hola'\n",
        "var2 = 'Brandon'\n",
        "\n",
        "print(var1 + ' ' + var2)"
      ],
      "metadata": {
        "colab": {
          "base_uri": "https://localhost:8080/"
        },
        "id": "8EewCLFJFwaY",
        "outputId": "30d176fb-8a67-4260-90e5-08f258a0784b"
      },
      "execution_count": 23,
      "outputs": [
        {
          "output_type": "stream",
          "name": "stdout",
          "text": [
            "Hola Brandon\n"
          ]
        }
      ]
    },
    {
      "cell_type": "code",
      "source": [
        "print(3*var1)\n"
      ],
      "metadata": {
        "colab": {
          "base_uri": "https://localhost:8080/"
        },
        "id": "C61rCj5gGd9Y",
        "outputId": "2abd8597-2cd0-4380-a1d0-9fea167faa55"
      },
      "execution_count": 24,
      "outputs": [
        {
          "output_type": "stream",
          "name": "stdout",
          "text": [
            "HolaHolaHola\n"
          ]
        }
      ]
    },
    {
      "cell_type": "code",
      "source": [
        "num1=10\n",
        "num2=20.5\n",
        "\n",
        "print('El tipo de numero es ',type(num1))\n",
        "print('El tipo de numero es ',type(num2))\n"
      ],
      "metadata": {
        "colab": {
          "base_uri": "https://localhost:8080/"
        },
        "id": "yg7xdUhoGqpf",
        "outputId": "91bb1bc0-8046-463e-b452-029a3f6bb97b"
      },
      "execution_count": 25,
      "outputs": [
        {
          "output_type": "stream",
          "name": "stdout",
          "text": [
            "El tipo de numero es  <class 'int'>\n",
            "El tipo de numero es  <class 'float'>\n"
          ]
        }
      ]
    }
  ]
}