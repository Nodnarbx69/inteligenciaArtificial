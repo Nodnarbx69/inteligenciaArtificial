{
  "nbformat": 4,
  "nbformat_minor": 0,
  "metadata": {
    "colab": {
      "provenance": [],
      "authorship_tag": "ABX9TyNjYyTn0FVvgSOSIQAhVsev",
      "include_colab_link": true
    },
    "kernelspec": {
      "name": "python3",
      "display_name": "Python 3"
    },
    "language_info": {
      "name": "python"
    }
  },
  "cells": [
    {
      "cell_type": "markdown",
      "metadata": {
        "id": "view-in-github",
        "colab_type": "text"
      },
      "source": [
        "<a href=\"https://colab.research.google.com/github/Nodnarbx69/inteligenciaArtificial/blob/main/25junio.ipynb\" target=\"_parent\"><img src=\"https://colab.research.google.com/assets/colab-badge.svg\" alt=\"Open In Colab\"/></a>"
      ]
    },
    {
      "cell_type": "code",
      "execution_count": null,
      "metadata": {
        "id": "vufNHoBok8NL"
      },
      "outputs": [],
      "source": []
    },
    {
      "cell_type": "code",
      "source": [
        "#Martes 25 de junio 2024"
      ],
      "metadata": {
        "id": "AjKMyVi2lOpY"
      },
      "execution_count": null,
      "outputs": []
    },
    {
      "cell_type": "code",
      "source": [
        "tmp=list()\n",
        "tmp.append(1)\n",
        "tmp.append('hola')\n",
        "tmp.append(3)\n",
        "print(tmp)\n",
        "\n",
        "#upper\n",
        "\n",
        "tmp1='hola'\n",
        "print(tmp1.upper())\n",
        "print(tmp1.capitalize())\n"
      ],
      "metadata": {
        "colab": {
          "base_uri": "https://localhost:8080/"
        },
        "id": "3qgSf3FnlheA",
        "outputId": "4c1ee531-1674-4236-dd56-29ec5f194046"
      },
      "execution_count": null,
      "outputs": [
        {
          "output_type": "stream",
          "name": "stdout",
          "text": [
            "[1, 'hola', 3]\n",
            "HOLA\n",
            "Hola\n"
          ]
        }
      ]
    },
    {
      "cell_type": "code",
      "source": [
        "aux=[1,2,3,4,5,6,7,8,9,10]\n",
        "aux[4]=10\n",
        "print(aux)\n",
        "\n",
        "print(aux[-1])\n",
        "print(aux[0:5])\n",
        "print(aux[0:5:2])"
      ],
      "metadata": {
        "colab": {
          "base_uri": "https://localhost:8080/"
        },
        "id": "6iuCDXu5n86R",
        "outputId": "f386a1e1-d147-4d94-aab3-a7817588536b"
      },
      "execution_count": null,
      "outputs": [
        {
          "output_type": "stream",
          "name": "stdout",
          "text": [
            "[1, 2, 3, 4, 10, 6, 7, 8, 9, 10]\n",
            "10\n",
            "[1, 2, 3, 4, 10]\n",
            "[1, 3, 10]\n"
          ]
        }
      ]
    },
    {
      "cell_type": "code",
      "source": [
        "aux=list()\n",
        "for i in range(100):\n",
        "    aux.append(i)\n",
        "print(aux[:20])"
      ],
      "metadata": {
        "colab": {
          "base_uri": "https://localhost:8080/"
        },
        "id": "xbRmpV9mpp9C",
        "outputId": "0478620f-ee08-4614-baa1-b935b9e108f0"
      },
      "execution_count": null,
      "outputs": [
        {
          "output_type": "stream",
          "name": "stdout",
          "text": [
            "[0, 1, 2, 3, 4, 5, 6, 7, 8, 9, 10, 11, 12, 13, 14, 15, 16, 17, 18, 19]\n"
          ]
        }
      ]
    },
    {
      "cell_type": "code",
      "source": [
        "aux=list()\n",
        "for i in range(101):\n",
        "    if i%2==0:\n",
        "        aux.append(i)\n",
        "print(aux)"
      ],
      "metadata": {
        "colab": {
          "base_uri": "https://localhost:8080/"
        },
        "id": "Pe4BYo19qCXy",
        "outputId": "694a7ae2-20f0-4335-c60e-5fbd88c82bfd"
      },
      "execution_count": null,
      "outputs": [
        {
          "output_type": "stream",
          "name": "stdout",
          "text": [
            "[0, 2, 4, 6, 8, 10, 12, 14, 16, 18, 20, 22, 24, 26, 28, 30, 32, 34, 36, 38, 40, 42, 44, 46, 48, 50, 52, 54, 56, 58, 60, 62, 64, 66, 68, 70, 72, 74, 76, 78, 80, 82, 84, 86, 88, 90, 92, 94, 96, 98, 100]\n"
          ]
        }
      ]
    },
    {
      "cell_type": "code",
      "source": [
        "tmp=list()\n",
        "tmp.append(5*5)\n",
        "tmp.append(7/2)\n",
        "tmp.append(3-4)\n",
        "print(tmp)\n",
        "print('La multiplicaicon es',tmp[0], 'la division es', tmp[1], 'la resta es', tmp[2])"
      ],
      "metadata": {
        "colab": {
          "base_uri": "https://localhost:8080/"
        },
        "id": "c6Z7_O9SmdrK",
        "outputId": "68b1c8c6-713d-4fe6-ff7e-25e82b49907a"
      },
      "execution_count": null,
      "outputs": [
        {
          "output_type": "stream",
          "name": "stdout",
          "text": [
            "[25, 3.5, -1]\n",
            "La multiplicaicon es 25 la division es 3.5 la resta es -1\n"
          ]
        }
      ]
    },
    {
      "cell_type": "code",
      "source": [
        "#En una linea de codigo  100 numeros y muetra los impares\n",
        "\n",
        "print([i for i in range(102) if i % 2 != 0])\n"
      ],
      "metadata": {
        "colab": {
          "base_uri": "https://localhost:8080/"
        },
        "id": "4Mp5cpFjrunC",
        "outputId": "350ca802-5658-4637-a533-eceec162fa0e"
      },
      "execution_count": null,
      "outputs": [
        {
          "output_type": "stream",
          "name": "stdout",
          "text": [
            "[1, 3, 5, 7, 9, 11, 13, 15, 17, 19, 21, 23, 25, 27, 29, 31, 33, 35, 37, 39, 41, 43, 45, 47, 49, 51, 53, 55, 57, 59, 61, 63, 65, 67, 69, 71, 73, 75, 77, 79, 81, 83, 85, 87, 89, 91, 93, 95, 97, 99, 101]\n"
          ]
        }
      ]
    },
    {
      "cell_type": "code",
      "source": [
        "animals=['cat','dog','monkey','rabbit']\n",
        "for animal in animals:\n",
        "    print(animal)"
      ],
      "metadata": {
        "colab": {
          "base_uri": "https://localhost:8080/"
        },
        "id": "H9DA46qbsGI6",
        "outputId": "0a23124b-3214-421f-d839-1befad057f4a"
      },
      "execution_count": null,
      "outputs": [
        {
          "output_type": "stream",
          "name": "stdout",
          "text": [
            "cat\n",
            "dog\n",
            "monkey\n",
            "rabbit\n"
          ]
        }
      ]
    },
    {
      "cell_type": "code",
      "source": [
        "squares = [i**2 for i in range(1, 21)]\n",
        "print(squares)"
      ],
      "metadata": {
        "colab": {
          "base_uri": "https://localhost:8080/"
        },
        "id": "c_OCBPTSt6kU",
        "outputId": "310acf6f-dc8a-45e2-b18c-58adbb0b4827"
      },
      "execution_count": null,
      "outputs": [
        {
          "output_type": "stream",
          "name": "stdout",
          "text": [
            "[1, 4, 9, 16, 25, 36, 49, 64, 81, 100, 121, 144, 169, 196, 225, 256, 289, 324, 361, 400]\n"
          ]
        }
      ]
    },
    {
      "cell_type": "code",
      "source": [
        "myDiccionary = {'cat': 'cute', 'dog': 'furry'}\n",
        "for key, value in myDiccionary.items():\n",
        "    print(key, value)"
      ],
      "metadata": {
        "colab": {
          "base_uri": "https://localhost:8080/"
        },
        "id": "zHT3jdujvnhL",
        "outputId": "b9de1819-1022-41a4-81cf-2302ccf1e3a0"
      },
      "execution_count": null,
      "outputs": [
        {
          "output_type": "stream",
          "name": "stdout",
          "text": [
            "cat cute\n",
            "dog furry\n"
          ]
        }
      ]
    },
    {
      "cell_type": "code",
      "source": [
        "myDictionary={'cat':'cute', 'dog': 'big'}\n",
        "\n",
        "print(myDictionary['cat'])\n",
        "\n",
        "myDictAux={'monkey': 'black', 'mouse': 'small', 'rabbit': 'white'}\n",
        "\n",
        "myDictionary.update(myDictAux)\n",
        "\n",
        "print(myDictionary)\n",
        "for key, value in myDictionary.items(): # print(key)\n",
        "\n",
        "  print(f' key: {key} Value: {value}')\n",
        "\n",
        "myList=[1,2,3,1,5,6]\n",
        "\n",
        "myDictAux1={x: x**2 for x in myList}\n",
        "\n",
        "print(myDictAux1)"
      ],
      "metadata": {
        "colab": {
          "base_uri": "https://localhost:8080/"
        },
        "id": "OGEy6ful1UzO",
        "outputId": "50e8278a-a4ff-4962-e386-d4f5221ecf9f"
      },
      "execution_count": 53,
      "outputs": [
        {
          "output_type": "stream",
          "name": "stdout",
          "text": [
            "cute\n",
            "{'cat': 'cute', 'dog': 'big', 'monkey': 'black', 'mouse': 'small', 'rabbit': 'white'}\n",
            " key: cat Value: cute\n",
            " key: dog Value: big\n",
            " key: monkey Value: black\n",
            " key: mouse Value: small\n",
            " key: rabbit Value: white\n",
            "{1: 1, 2: 4, 3: 9, 5: 25, 6: 36}\n"
          ]
        }
      ]
    },
    {
      "cell_type": "code",
      "source": [
        "\n",
        "def suma_resta(a, b, operacion):\n",
        "  if operacion == 'suma':\n",
        "    return a + b, True\n",
        "  elif operacion == 'resta':\n",
        "    return a - b, False\n",
        "  else:\n",
        "    raise ValueError('Operación no válida')\n",
        "\n",
        "resultado, es_suma = suma_resta(5, 3, 'suma')\n",
        "print(f'Resultado: {resultado}, Es suma: {es_suma}')\n",
        "\n",
        "resultado, es_suma = suma_resta(5, 3, 'resta')\n",
        "print(f'Resultado: {resultado}, Es suma: {es_suma}')\n"
      ],
      "metadata": {
        "colab": {
          "base_uri": "https://localhost:8080/"
        },
        "id": "MAC6qIYu2boI",
        "outputId": "fc820eed-91a3-432c-f9b0-a061133e1b27"
      },
      "execution_count": 55,
      "outputs": [
        {
          "output_type": "stream",
          "name": "stdout",
          "text": [
            "Resultado: 8, Es suma: True\n",
            "Resultado: 2, Es suma: False\n"
          ]
        }
      ]
    },
    {
      "cell_type": "code",
      "source": [
        "lista = [-1, 1, 0]\n",
        "\n",
        "def signo(numero):\n",
        "  if numero > 0:\n",
        "    return \"positivo\"\n",
        "  elif numero < 0:\n",
        "    return \"negativo\"\n",
        "  else:\n",
        "    return \"no tiene signo\"\n",
        "\n",
        "for numero in lista:\n",
        "  print(f\"El número {numero} es {signo(numero)}\")\n"
      ],
      "metadata": {
        "colab": {
          "base_uri": "https://localhost:8080/"
        },
        "id": "fYCq5Xmk6zl7",
        "outputId": "d01dd1f8-6a6f-4e02-f006-ca5f18ea5dfc"
      },
      "execution_count": 56,
      "outputs": [
        {
          "output_type": "stream",
          "name": "stdout",
          "text": [
            "El número -1 es negativo\n",
            "El número 1 es positivo\n",
            "El número 0 es no tiene signo\n"
          ]
        }
      ]
    },
    {
      "cell_type": "code",
      "source": [],
      "metadata": {
        "id": "EIpO06GW70E-"
      },
      "execution_count": null,
      "outputs": []
    }
  ]
}