{
  "nbformat": 4,
  "nbformat_minor": 0,
  "metadata": {
    "colab": {
      "provenance": [],
      "authorship_tag": "ABX9TyMb9I7ukdVOoi3uMqAyUnfr",
      "include_colab_link": true
    },
    "kernelspec": {
      "name": "python3",
      "display_name": "Python 3"
    },
    "language_info": {
      "name": "python"
    }
  },
  "cells": [
    {
      "cell_type": "markdown",
      "metadata": {
        "id": "view-in-github",
        "colab_type": "text"
      },
      "source": [
        "<a href=\"https://colab.research.google.com/github/Nodnarbx69/inteligenciaArtificial/blob/main/lunes10DeJunio.ipynb\" target=\"_parent\"><img src=\"https://colab.research.google.com/assets/colab-badge.svg\" alt=\"Open In Colab\"/></a>"
      ]
    },
    {
      "cell_type": "code",
      "execution_count": 1,
      "metadata": {
        "colab": {
          "base_uri": "https://localhost:8080/"
        },
        "id": "1c6q_zyZ92Fx",
        "outputId": "aab093f4-db5a-477f-c686-75fb30789730"
      },
      "outputs": [
        {
          "output_type": "stream",
          "name": "stdout",
          "text": [
            "Python 3.10.12\n"
          ]
        }
      ],
      "source": [
        "!python --version\n"
      ]
    },
    {
      "cell_type": "code",
      "source": [
        "# prompt: crea un algoritmo para saber que signo del sodiaco soy\n",
        "\n",
        "import datetime\n",
        "\n",
        "def get_zodiac_sign(day, month):\n",
        "  \"\"\"\n",
        "  This function takes the day and month of birth as integers and returns the corresponding zodiac sign.\n",
        "  \"\"\"\n",
        "\n",
        "  # Define the zodiac signs and their corresponding date ranges.\n",
        "  signs = {\n",
        "      \"Aries\": (datetime.date(1900, 3, 21), datetime.date(1900, 4, 19)),\n",
        "      \"Taurus\": (datetime.date(1900, 4, 20), datetime.date(1900, 5, 20)),\n",
        "      \"Gemini\": (datetime.date(1900, 5, 21), datetime.date(1900, 6, 20)),\n",
        "      \"Cancer\": (datetime.date(1900, 6, 21), datetime.date(1900, 7, 22)),\n",
        "      \"Leo\": (datetime.date(1900, 7, 23), datetime.date(1900, 8, 22)),\n",
        "      \"Virgo\": (datetime.date(1900, 8, 23), datetime.date(1900, 9, 22)),\n",
        "      \"Libra\": (datetime.date(1900, 9, 23), datetime.date(1900, 10, 22)),\n",
        "      \"Scorpio\": (datetime.date(1900, 10, 23), datetime.date(1900, 11, 21)),\n",
        "      \"Sagittarius\": (datetime.date(1900, 11, 22), datetime.date(1900, 12, 21)),\n",
        "      \"Capricorn\": (datetime.date(1900, 12, 22), datetime.date(1900, 1, 19)),\n",
        "      \"Aquarius\": (datetime.date(1900, 1, 20), datetime.date(1900, 2, 18)),\n",
        "      \"Pisces\": (datetime.date(1900, 2, 19), datetime.date(1900, 3, 20))\n",
        "  }\n",
        "\n",
        "  # Create a datetime object from the given day and month.\n",
        "  date = datetime.date(1900, month, day)\n",
        "\n",
        "  # Iterate through the signs and check if the date falls within the range.\n",
        "  for sign, (start_date, end_date) in signs.items():\n",
        "    if start_date <= date <= end_date:\n",
        "      return sign\n",
        "\n",
        "  # If the date does not fall within any of the ranges, return None.\n",
        "  return None\n",
        "\n",
        "# Example usage\n",
        "day = 21\n",
        "month = 3\n",
        "\n",
        "zodiac_sign = get_zodiac_sign(day, month)\n",
        "\n",
        "print(f\"Your zodiac sign is: {zodiac_sign}\")\n"
      ],
      "metadata": {
        "colab": {
          "base_uri": "https://localhost:8080/"
        },
        "id": "vTml5SvQ-WE4",
        "outputId": "e51e6c9c-e732-41ab-a4b7-a8cec4b57ec6"
      },
      "execution_count": 7,
      "outputs": [
        {
          "output_type": "stream",
          "name": "stdout",
          "text": [
            "Your zodiac sign is: Aries\n"
          ]
        }
      ]
    }
  ]
}